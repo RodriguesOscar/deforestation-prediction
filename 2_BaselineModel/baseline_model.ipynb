{
  "cells": [
    {
      "cell_type": "markdown",
      "metadata": {
        "id": "pLQvyG9mlEgV"
      },
      "source": [
        "# Baseline Model\n",
        "\n",
        "## Table of Contents\n",
        "1. [Model Choice](#model-choice)\n",
        "2. [Feature Selection](#feature-selection)\n",
        "3. [Implementation](#implementation)\n",
        "4. [Evaluation](#evaluation)\n"
      ]
    },
    {
      "cell_type": "code",
      "execution_count": null,
      "metadata": {
        "id": "TzJ3eW9qlEgZ"
      },
      "outputs": [],
      "source": [
        "# Import necessary libraries\n",
        "import pandas as pd\n",
        "import numpy as np\n",
        "from sklearn.model_selection import train_test_split\n",
        "from sklearn.metrics import accuracy_score, mean_squared_error\n",
        "# Import your chosen baseline model\n",
        "# Example: from sklearn.linear_model import LogisticRegression\n"
      ]
    },
    {
      "cell_type": "code",
      "source": [],
      "metadata": {
        "id": "FWY6QEInmDtg"
      },
      "execution_count": null,
      "outputs": []
    },
    {
      "cell_type": "markdown",
      "metadata": {
        "id": "e07XLaYjlEga"
      },
      "source": [
        "## Model Choice\n",
        "\n",
        "[Explain why you've chosen a particular model as the baseline. This could be a simple statistical model or a basic machine learning model. Justify your choice.]\n"
      ]
    },
    {
      "cell_type": "markdown",
      "source": [
        "Model Choice\n",
        "\n",
        "For this baseline model, we selected Logistic Regression as our initial classifier. Logistic Regression is a simple and interpretable algorithm that is well-suited for binary classification tasks, such as predicting whether deforestation will occur (1) or not (0) in the following year.\n",
        "\n",
        "This model is chosen because:\n",
        "\t•\tIt requires minimal tuning and runs efficiently.\n",
        "\t•\tIt serves as a strong and transparent benchmark against which more complex models can be compared.\n",
        "\t•\tIt provides insight into feature importance via its learned coefficients.\n",
        "\n",
        "By starting with Logistic Regression, we establish a meaningful baseline that is easy to implement and evaluate. Subsequent models, such as tree-based classifiers, can then be assessed based on their performance gains over this baseline."
      ],
      "metadata": {
        "id": "smXwehCSmCPE"
      }
    },
    {
      "cell_type": "markdown",
      "metadata": {
        "id": "tL6jfpw8lEga"
      },
      "source": [
        "## Feature Selection\n",
        "\n",
        "[Indicate which features from the dataset you will be using for the baseline model, and justify your selection.]\n"
      ]
    },
    {
      "cell_type": "markdown",
      "source": [
        "For the baseline model, we selected features that are most directly related to land cover, which are the pixel counts of different MapBiomas land cover classes per municipality per year. These features capture the spatial composition of each municipality and provide signals that correlate with deforestation risk.\n",
        "\n",
        "Selected features:\n",
        "\t•\tLand cover class columns: 3, 6, 11, 15, 24, 33\n",
        "These represent major land cover types such as forest (3), natural vegetation (6, 11, 33), and anthropic classes like pasture (15) and agriculture (24).\n",
        "\n",
        "Target variable:\n",
        "\t•\ttarget — a binary variable where 1 indicates that deforestation occurred in the following year, and 0 indicates no deforestation.\n",
        "\n",
        "These features were selected based on domain knowledge (MapBiomas classification codes) and their strong correlations with deforestation dynamics, as observed in the exploratory data analysis.\n"
      ],
      "metadata": {
        "id": "YpM3k15OmZG7"
      }
    },
    {
      "cell_type": "code",
      "execution_count": 3,
      "metadata": {
        "colab": {
          "base_uri": "https://localhost:8080/"
        },
        "id": "9ef9sksRlEgb",
        "outputId": "34feaaae-48bc-4765-d25b-baef74dc1383"
      },
      "outputs": [
        {
          "output_type": "stream",
          "name": "stderr",
          "text": [
            "/usr/local/lib/python3.11/dist-packages/pyogrio/raw.py:198: RuntimeWarning: /content/drive/MyDrive/yearly_deforestation_biome/yearly_deforestation_biome.shp contains polygon(s) with rings with invalid winding order. Autocorrecting them, but that shapefile should be corrected using ogr2ogr for example.\n",
            "  return ogr_read(\n"
          ]
        },
        {
          "output_type": "stream",
          "name": "stdout",
          "text": [
            "     NM_MUN    year  deforestation_count  target\n",
            "0  Alvarães  2008.0                   97       1\n",
            "1  Alvarães  2009.0                   21       1\n",
            "2  Alvarães  2010.0                   55       1\n",
            "3  Alvarães  2011.0                   25       1\n",
            "4  Alvarães  2012.0                    5       1\n"
          ]
        }
      ],
      "source": [
        "import geopandas as gpd\n",
        "import pandas as pd\n",
        "\n",
        "# 2. Load BR_Municipios_2024 shapefile and filter to Amazonas\n",
        "shapefile_path = '/content/drive/MyDrive/BR_municipios_2024/BR_Municipios_2024.shp'\n",
        "municipios_gdf = gpd.read_file(shapefile_path)\n",
        "amazonas_gdf = municipios_gdf[municipios_gdf['SIGLA_UF'] == 'AM'].copy()\n",
        "\n",
        "# 3. Load PRODES shapefile with yearly deforestation polygons\n",
        "prodes_path = '/content/drive/MyDrive/yearly_deforestation_biome/yearly_deforestation_biome.shp'\n",
        "prodes_gdf = gpd.read_file(prodes_path)\n",
        "\n",
        "# 4. Filter only Amazonas records\n",
        "prodes_am = prodes_gdf[prodes_gdf['state'] == 'AM'].copy()\n",
        "\n",
        "# 5. Reproject PRODES to match municipalities CRS\n",
        "prodes_am = prodes_am.to_crs(amazonas_gdf.crs)\n",
        "\n",
        "# 6. Spatial join: match each deforestation polygon to a municipality\n",
        "joined = gpd.sjoin(prodes_am, amazonas_gdf, how='inner', predicate='intersects')\n",
        "\n",
        "# 7. Count deforestation polygons per municipality + year\n",
        "deforestation_per_year = (\n",
        "    joined.groupby(['NM_MUN', 'year'])\n",
        "    .size()\n",
        "    .reset_index(name='deforestation_count')\n",
        ")\n",
        "\n",
        "# 8. Binary target: 1 if deforestation occurred, 0 otherwise\n",
        "deforestation_per_year['target'] = (deforestation_per_year['deforestation_count'] > 0).astype(int)\n",
        "\n",
        "# 9. Preview result\n",
        "print(deforestation_per_year.head())\n",
        "\n",
        "# 10. Optional: save to CSV for later merge\n",
        "deforestation_per_year.to_csv('/content/drive/MyDrive/deforestation_targets.csv', index=False)"
      ]
    },
    {
      "cell_type": "markdown",
      "metadata": {
        "id": "Kb5hnNeTlEgb"
      },
      "source": [
        "## Implementation\n",
        "\n",
        "[Implement your baseline model here.]\n",
        "\n"
      ]
    },
    {
      "cell_type": "code",
      "execution_count": 20,
      "metadata": {
        "colab": {
          "base_uri": "https://localhost:8080/"
        },
        "id": "_tBvGiVHlEgb",
        "outputId": "e77b1601-1215-415e-b1b1-c3efab0ba611"
      },
      "outputs": [
        {
          "output_type": "stream",
          "name": "stdout",
          "text": [
            "Accuracy: 0.592964824120603\n",
            "F1 Score: 0.7361563517915309\n",
            "ROC-AUC: 0.483976833976834\n",
            "Confusion Matrix:\n",
            " [[  5   9]\n",
            " [ 72 113]]\n",
            "\n",
            "Feature Coefficients:\n",
            "Class 3: 0.0000\n",
            "Class 6: -0.0000\n",
            "Class 11: 0.0000\n",
            "Class 15: 0.0000\n",
            "Class 24: 0.0000\n",
            "Class 33: -0.0000\n"
          ]
        }
      ],
      "source": [
        "import pandas as pd\n",
        "from sklearn.model_selection import train_test_split\n",
        "from sklearn.linear_model import LogisticRegression\n",
        "from sklearn.metrics import accuracy_score, f1_score, roc_auc_score, confusion_matrix\n",
        "\n",
        "# Load the merged dataset with features + target\n",
        "df = pd.read_csv('/content/drive/MyDrive/deforestation_ml_dataset.csv')\n",
        "\n",
        "# Define features and target\n",
        "feature_cols = ['3', '6', '11', '15', '24', '33']\n",
        "X = df[feature_cols]\n",
        "y = df['target']\n",
        "\n",
        "# Split data\n",
        "X_train, X_test, y_train, y_test = train_test_split(X, y, test_size=0.2, random_state=42)\n",
        "\n",
        "# Initialize and train logistic regression model\n",
        "model = LogisticRegression(max_iter=1000, class_weight='balanced')\n",
        "model.fit(X_train, y_train)\n",
        "\n",
        "# Predictions\n",
        "y_pred = model.predict(X_test)\n",
        "\n",
        "# Evaluation metrics\n",
        "print(\"Accuracy:\", accuracy_score(y_test, y_pred))\n",
        "print(\"F1 Score:\", f1_score(y_test, y_pred))\n",
        "print(\"ROC-AUC:\", roc_auc_score(y_test, y_pred))\n",
        "print(\"Confusion Matrix:\\n\", confusion_matrix(y_test, y_pred))\n",
        "\n",
        "# Optional: view model coefficients for interpretability\n",
        "print(\"\\nFeature Coefficients:\")\n",
        "for feat, coef in zip(feature_cols, model.coef_[0]):\n",
        "    print(f\"Class {feat}: {coef:.4f}\")"
      ]
    },
    {
      "cell_type": "markdown",
      "metadata": {
        "id": "WGVyt9F5lEgb"
      },
      "source": [
        "## Evaluation\n",
        "\n",
        "[Clearly state what metrics you will use to evaluate the model's performance. These metrics will serve as a starting point for evaluating more complex models later on.]\n",
        "\n"
      ]
    },
    {
      "cell_type": "markdown",
      "source": [],
      "metadata": {
        "id": "1mPoRU4iyJ7T"
      }
    },
    {
      "cell_type": "code",
      "source": [],
      "metadata": {
        "id": "ddDC9MMOx8kP"
      },
      "execution_count": null,
      "outputs": []
    },
    {
      "cell_type": "markdown",
      "source": [
        "### Evaluation\n",
        "\n",
        "To evaluate the baseline model’s performance, we used the following metrics:\n",
        "\n",
        "- **Accuracy** – overall proportion of correct predictions  \n",
        "- **F1 Score** – harmonic mean of precision and recall, suitable for imbalanced datasets  \n",
        "- **ROC-AUC** – evaluates the model’s ability to distinguish between classes  \n",
        "- **Confusion Matrix** – shows true/false positives and negatives to better understand prediction types  \n",
        "\n",
        "These metrics provide a foundation for comparison against more sophisticated models in future stages of the project.\n",
        "\n",
        "The baseline Logistic Regression model achieved the following results:\n",
        "\n",
        "- **Accuracy:** ~59%  \n",
        "- **F1 Score:** ~0.74  \n",
        "- **ROC-AUC:** ~0.48  \n",
        "\n",
        "The confusion matrix indicates that the model was able to identify both deforestation and non-deforestation cases, though performance remains limited. The low ROC-AUC suggests difficulty in distinguishing between the two classes.\n",
        "\n",
        "These results point to potential improvements in future iterations, including the use of more powerful models, additional features, and techniques to better handle class imbalance."
      ],
      "metadata": {
        "id": "VYF2xllErbkV"
      }
    },
    {
      "cell_type": "code",
      "source": [
        "from sklearn.metrics import accuracy_score, f1_score, roc_auc_score, confusion_matrix\n",
        "import seaborn as sns\n",
        "import matplotlib.pyplot as plt\n",
        "\n",
        "# Predictions\n",
        "y_pred = model.predict(X_test)\n",
        "\n",
        "# Evaluation metrics\n",
        "accuracy = accuracy_score(y_test, y_pred)\n",
        "f1 = f1_score(y_test, y_pred)\n",
        "roc_auc = roc_auc_score(y_test, y_pred)\n",
        "cm = confusion_matrix(y_test, y_pred)\n",
        "\n",
        "# Print metrics\n",
        "print(\"Accuracy:\", accuracy)\n",
        "print(\"F1 Score:\", f1)\n",
        "print(\"ROC-AUC:\", roc_auc)\n",
        "print(\"Confusion Matrix:\\n\", cm)\n",
        "\n",
        "sns.heatmap(cm, annot=True, fmt='d', cmap='Blues', xticklabels=[0, 1], yticklabels=[0, 1])\n",
        "plt.xlabel(\"Predicted\")\n",
        "plt.ylabel(\"Actual\")\n",
        "plt.title(\"Confusion Matrix\")\n",
        "plt.show()"
      ],
      "metadata": {
        "colab": {
          "base_uri": "https://localhost:8080/",
          "height": 574
        },
        "id": "drADAMJ9t2ul",
        "outputId": "43f3ec6f-2de2-499a-b185-2277b83ade81"
      },
      "execution_count": 21,
      "outputs": [
        {
          "output_type": "stream",
          "name": "stdout",
          "text": [
            "Accuracy: 0.592964824120603\n",
            "F1 Score: 0.7361563517915309\n",
            "ROC-AUC: 0.483976833976834\n",
            "Confusion Matrix:\n",
            " [[  5   9]\n",
            " [ 72 113]]\n"
          ]
        },
        {
          "output_type": "display_data",
          "data": {
            "text/plain": [
              "<Figure size 640x480 with 2 Axes>"
            ],
            "image/png": "[encoded data removed]"
          },
          "metadata": {}
        }
      ]
    }
  ],
  "metadata": {
    "language_info": {
      "name": "python"
    },
    "colab": {
      "provenance": []
    },
    "kernelspec": {
      "name": "python3",
      "display_name": "Python 3"
    }
  },
  "nbformat": 4,
  "nbformat_minor": 0
}