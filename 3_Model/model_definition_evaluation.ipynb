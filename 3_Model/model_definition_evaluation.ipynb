{
 "cells": [
  {
   "cell_type": "markdown",
   "metadata": {},
   "source": [
    "# Model Definition and Evaluation\n",
    "## Table of Contents\n",
    "1. [Model Selection](#model-selection)\n",
    "2. [Feature Engineering](#feature-engineering)\n",
    "3. [Hyperparameter Tuning](#hyperparameter-tuning)\n",
    "4. [Implementation](#implementation)\n",
    "5. [Evaluation Metrics](#evaluation-metrics)\n",
    "6. [Comparative Analysis](#comparative-analysis)\n"
   ]
  },
  {
   "cell_type": "code",
   "execution_count": 6,
   "metadata": {},
   "outputs": [],
   "source": [
    "import pandas as pd\n",
    "import numpy as np\n",
    "from sklearn.model_selection import train_test_split\n",
    "from sklearn.preprocessing import MinMaxScaler\n",
    "import os\n",
    "os.environ['TF_CPP_MIN_LOG_LEVEL'] = '2'\n",
    "import tensorflow as tf\n",
    "from tensorflow import keras\n",
    "from tensorflow.keras import layers"
   ]
  },
  {
   "cell_type": "markdown",
   "metadata": {},
   "source": [
    "## Model Selection\n",
    "\n",
    "[Discuss the type(s) of models you consider for this task, and justify the selection.]\n",
    "\n"
   ]
  },
  {
   "cell_type": "markdown",
   "metadata": {},
   "source": [
    "To address the revised research question — predicting deforestation increase — we selected a simple feedforward neural network implemented using TensorFlow and Keras. This model type is suitable for tabular data and flexible enough to capture non-linear relationships between land cover features and changes in deforestation.\n",
    "\n",
    "We chose this approach because:\n",
    "\t•\tIt allows for easy experimentation with architecture depth and regularization.\n",
    "\t•\tIt can potentially model subtle patterns missed by Logistic Regression."
   ]
  },
  {
   "cell_type": "markdown",
   "metadata": {},
   "source": [
    "## Feature Engineering\n",
    "\n",
    "[Describe any additional feature engineering you've performed beyond what was done for the baseline model.]\n"
   ]
  },
  {
   "cell_type": "markdown",
   "metadata": {},
   "source": [
    "We kept the same feature set used in the baseline model:\n",
    "\t•\tInput features: pixel counts of MapBiomas land cover classes: 3, 6, 11, 15, 24, 33\n",
    "\t•\tTarget: a binary variable indicating whether deforestation increased from year Y to Y+1.\n",
    "\n",
    "Additional steps:\n",
    "\t•\tNormalized input features using MinMaxScaler.\n",
    "\t•\tCreated the new binary target_increase column by comparing deforestation_count from year Y to Y+1 at the municipality level."
   ]
  },
  {
   "cell_type": "code",
   "execution_count": 10,
   "metadata": {},
   "outputs": [
    {
     "name": "stdout",
     "output_type": "stream",
     "text": [
      "✅ Dataset saved: deforestation_ml_dataset_increase.csv\n"
     ]
    }
   ],
   "source": [
    "# Load datasets\n",
    "features_df = pd.read_csv('deforestation_ml_dataset.csv')  # Land cover features + 'target'\n",
    "targets_df = pd.read_csv('deforestation_targets.csv')      # NM_MUN, year, deforestation_count\n",
    "\n",
    "# Step 1: Sort targets by municipality and year\n",
    "targets_df = targets_df.sort_values(by=['NM_MUN', 'year'])\n",
    "\n",
    "# Step 2: Calculate previous year deforestation count per municipality\n",
    "targets_df['prev_count'] = targets_df.groupby('NM_MUN')['deforestation_count'].shift(1)\n",
    "\n",
    "# Step 3: Calculate increase\n",
    "targets_df['target_increase'] = (targets_df['deforestation_count'] > targets_df['prev_count']).astype(int)\n",
    "\n",
    "# Step 4: Rename for merge compatibility\n",
    "targets_df.rename(columns={'NM_MUN': 'municipality'}, inplace=True)\n",
    "\n",
    "# Step 5: Merge with features\n",
    "merged_df = pd.merge(features_df, targets_df[['municipality', 'year', 'target_increase']], on=['municipality', 'year'], how='inner')\n",
    "\n",
    "# Step 6: Save final dataset\n",
    "merged_df.to_csv('deforestation_ml_dataset_increase.csv', index=False)\n",
    "print(\"✅ Dataset saved: deforestation_ml_dataset_increase.csv\")"
   ]
  },
  {
   "cell_type": "code",
   "execution_count": 11,
   "metadata": {},
   "outputs": [],
   "source": [
    "import pandas as pd\n",
    "from sklearn.model_selection import train_test_split\n",
    "\n",
    "# Load the dataset\n",
    "# Replace with the correct path if needed\n",
    "df = pd.read_csv('deforestation_ml_dataset_increase.csv')\n",
    "\n",
    "# Feature selection — MapBiomas land cover classes\n",
    "feature_cols = ['3', '6', '11', '15', '24', '33']\n",
    "X = df[feature_cols]\n",
    "\n",
    "# Target — 1 if deforestation increased from previous year, else 0\n",
    "y = df['target_increase']\n",
    "\n",
    "# Split the dataset into train and test sets (80/20)\n",
    "X_train, X_test, y_train, y_test = train_test_split(X, y, test_size=0.2, random_state=42)"
   ]
  },
  {
   "cell_type": "markdown",
   "metadata": {},
   "source": [
    "## Hyperparameter Tuning\n",
    "\n",
    "[Discuss any hyperparameter tuning methods you've applied, such as Grid Search or Random Search, and the rationale behind them.]\n"
   ]
  },
  {
   "cell_type": "markdown",
   "metadata": {},
   "source": [
    "We performed manual tuning on the following:\n",
    "\t•\tNumber of layers: 2 hidden layers\n",
    "\t•\tNeurons per layer: 16 and 8\n",
    "\t•\tActivation functions: ReLU for hidden layers, Sigmoid for output\n",
    "\t•\tDropout: 0.2 to reduce overfitting\n",
    "\t•\tOptimizer: Adam\n",
    "\t•\tLoss: Binary Crossentropy\n",
    "\n",
    "We did not use Grid Search due to time constraints but can apply Keras Tuner in future iterations."
   ]
  },
  {
   "cell_type": "code",
   "execution_count": null,
   "metadata": {},
   "outputs": [],
   "source": [
    "# Implement hyperparameter tuning\n",
    "# Example using GridSearchCV with a DecisionTreeClassifier\n",
    "# param_grid = {'max_depth': [2, 4, 6, 8]}\n",
    "# grid_search = GridSearchCV(DecisionTreeClassifier(), param_grid, cv=5)\n",
    "# grid_search.fit(X_train, y_train)\n"
   ]
  },
  {
   "cell_type": "markdown",
   "metadata": {},
   "source": [
    "## Implementation\n",
    "\n",
    "[Implement the final model(s) you've selected based on the above steps.]\n"
   ]
  },
  {
   "cell_type": "code",
   "execution_count": 37,
   "metadata": {},
   "outputs": [
    {
     "name": "stdout",
     "output_type": "stream",
     "text": [
      "X shape: (853, 16)\n",
      "y shape: (853,)\n",
      "X preview:\n",
      "        33      11        6         3     24       15     12     25       4  \\\n",
      "0  721532  529792   850718    614590    648   187401  39074    0.0     0.0   \n",
      "1  587707   27440  4156380   9072722  10570     6505   1727    0.0     0.0   \n",
      "2  159045   41094   690611  21824567   4635  1592601   5313  472.0  1171.0   \n",
      "3  379531   43470  2132787   4646258   2095    10148   5662    0.0     0.0   \n",
      "4  731036   97070  1964925  23717432   8229    61704   1892    5.0   377.0   \n",
      "\n",
      "    30      41   29   20   39   31  prev_count  \n",
      "0  0.0     0.0  0.0  0.0  0.0  0.0        91.0  \n",
      "1  0.0     0.0  0.0  0.0  0.0  0.0        12.0  \n",
      "2  0.0  1298.0  0.0  0.0  0.0  0.0       276.0  \n",
      "3  0.0     0.0  0.0  0.0  0.0  0.0         2.0  \n",
      "4  0.0     0.0  0.0  0.0  0.0  0.0        96.0  \n"
     ]
    }
   ],
   "source": [
    "import pandas as pd\n",
    "from sklearn.model_selection import train_test_split\n",
    "from sklearn.preprocessing import StandardScaler\n",
    "\n",
    "# Load dataset\n",
    "df = pd.read_csv('deforestation_ml_dataset_increase.csv')\n",
    "\n",
    "# Target and feature columns\n",
    "target_column = 'target_increase'\n",
    "feature_columns = ['33', '11', '6', '3', '24', '15', '12', '25', '4',\n",
    "                   '30', '41', '29', '20', '39', '31', 'prev_count']\n",
    "\n",
    "# Keep only rows where target is not null (already the case, but safe)\n",
    "df = df[df[target_column].notnull()]\n",
    "\n",
    "# Fill missing values in features with 0 (you can change to .fillna(df.mean()) if preferred)\n",
    "df[feature_columns] = df[feature_columns].fillna(0)\n",
    "\n",
    "# Separate features and target\n",
    "X = df[feature_columns]\n",
    "y = df[target_column]\n",
    "\n",
    "# Check again\n",
    "print(\"X shape:\", X.shape)\n",
    "print(\"y shape:\", y.shape)\n",
    "print(\"X preview:\\n\", X.head())\n",
    "\n",
    "# Train/val/test split (70/15/15)\n",
    "X_train_val, X_test, y_train_val, y_test = train_test_split(X, y, test_size=0.15, stratify=y, random_state=42)\n",
    "X_train, X_val, y_train, y_val = train_test_split(X_train_val, y_train_val, test_size=0.15, stratify=y_train_val, random_state=42)\n",
    "\n",
    "# Scale features\n",
    "scaler = StandardScaler()\n",
    "X_train_scaled = scaler.fit_transform(X_train)\n",
    "X_val_scaled = scaler.transform(X_val)\n",
    "X_test_scaled = scaler.transform(X_test)"
   ]
  },
  {
   "cell_type": "code",
   "execution_count": 38,
   "metadata": {},
   "outputs": [
    {
     "name": "stdout",
     "output_type": "stream",
     "text": [
      "Epoch 1/100\n",
      "\u001b[1m20/20\u001b[0m \u001b[32m━━━━━━━━━━━━━━━━━━━━\u001b[0m\u001b[37m\u001b[0m \u001b[1m2s\u001b[0m 10ms/step - accuracy: 0.4782 - loss: 0.7942 - val_accuracy: 0.5229 - val_loss: 0.7647\n",
      "Epoch 2/100\n",
      "\u001b[1m20/20\u001b[0m \u001b[32m━━━━━━━━━━━━━━━━━━━━\u001b[0m\u001b[37m\u001b[0m \u001b[1m0s\u001b[0m 5ms/step - accuracy: 0.5110 - loss: 0.7360 - val_accuracy: 0.4954 - val_loss: 0.7316\n",
      "Epoch 3/100\n",
      "\u001b[1m20/20\u001b[0m \u001b[32m━━━━━━━━━━━━━━━━━━━━\u001b[0m\u001b[37m\u001b[0m \u001b[1m0s\u001b[0m 5ms/step - accuracy: 0.5242 - loss: 0.6954 - val_accuracy: 0.5321 - val_loss: 0.7275\n",
      "Epoch 4/100\n",
      "\u001b[1m20/20\u001b[0m \u001b[32m━━━━━━━━━━━━━━━━━━━━\u001b[0m\u001b[37m\u001b[0m \u001b[1m0s\u001b[0m 4ms/step - accuracy: 0.5801 - loss: 0.6775 - val_accuracy: 0.5229 - val_loss: 0.7158\n",
      "Epoch 5/100\n",
      "\u001b[1m20/20\u001b[0m \u001b[32m━━━━━━━━━━━━━━━━━━━━\u001b[0m\u001b[37m\u001b[0m \u001b[1m0s\u001b[0m 5ms/step - accuracy: 0.5561 - loss: 0.6969 - val_accuracy: 0.5321 - val_loss: 0.7080\n",
      "Epoch 6/100\n",
      "\u001b[1m20/20\u001b[0m \u001b[32m━━━━━━━━━━━━━━━━━━━━\u001b[0m\u001b[37m\u001b[0m \u001b[1m0s\u001b[0m 4ms/step - accuracy: 0.5411 - loss: 0.7072 - val_accuracy: 0.5688 - val_loss: 0.7061\n",
      "Epoch 7/100\n",
      "\u001b[1m20/20\u001b[0m \u001b[32m━━━━━━━━━━━━━━━━━━━━\u001b[0m\u001b[37m\u001b[0m \u001b[1m0s\u001b[0m 5ms/step - accuracy: 0.5536 - loss: 0.7066 - val_accuracy: 0.5963 - val_loss: 0.7031\n",
      "Epoch 8/100\n",
      "\u001b[1m20/20\u001b[0m \u001b[32m━━━━━━━━━━━━━━━━━━━━\u001b[0m\u001b[37m\u001b[0m \u001b[1m0s\u001b[0m 4ms/step - accuracy: 0.5255 - loss: 0.7011 - val_accuracy: 0.6055 - val_loss: 0.7060\n",
      "Epoch 9/100\n",
      "\u001b[1m20/20\u001b[0m \u001b[32m━━━━━━━━━━━━━━━━━━━━\u001b[0m\u001b[37m\u001b[0m \u001b[1m0s\u001b[0m 4ms/step - accuracy: 0.5433 - loss: 0.6851 - val_accuracy: 0.6147 - val_loss: 0.7072\n",
      "Epoch 10/100\n",
      "\u001b[1m20/20\u001b[0m \u001b[32m━━━━━━━━━━━━━━━━━━━━\u001b[0m\u001b[37m\u001b[0m \u001b[1m0s\u001b[0m 7ms/step - accuracy: 0.5800 - loss: 0.6838 - val_accuracy: 0.6239 - val_loss: 0.7076\n",
      "Epoch 11/100\n",
      "\u001b[1m20/20\u001b[0m \u001b[32m━━━━━━━━━━━━━━━━━━━━\u001b[0m\u001b[37m\u001b[0m \u001b[1m0s\u001b[0m 4ms/step - accuracy: 0.5587 - loss: 0.6724 - val_accuracy: 0.6606 - val_loss: 0.7124\n",
      "Epoch 12/100\n",
      "\u001b[1m20/20\u001b[0m \u001b[32m━━━━━━━━━━━━━━━━━━━━\u001b[0m\u001b[37m\u001b[0m \u001b[1m0s\u001b[0m 4ms/step - accuracy: 0.6032 - loss: 0.6945 - val_accuracy: 0.6330 - val_loss: 0.7137\n",
      "Epoch 13/100\n",
      "\u001b[1m20/20\u001b[0m \u001b[32m━━━━━━━━━━━━━━━━━━━━\u001b[0m\u001b[37m\u001b[0m \u001b[1m0s\u001b[0m 4ms/step - accuracy: 0.5634 - loss: 0.6745 - val_accuracy: 0.6422 - val_loss: 0.7127\n",
      "Epoch 14/100\n",
      "\u001b[1m20/20\u001b[0m \u001b[32m━━━━━━━━━━━━━━━━━━━━\u001b[0m\u001b[37m\u001b[0m \u001b[1m0s\u001b[0m 4ms/step - accuracy: 0.5740 - loss: 0.6727 - val_accuracy: 0.6330 - val_loss: 0.7109\n",
      "Epoch 15/100\n",
      "\u001b[1m20/20\u001b[0m \u001b[32m━━━━━━━━━━━━━━━━━━━━\u001b[0m\u001b[37m\u001b[0m \u001b[1m0s\u001b[0m 4ms/step - accuracy: 0.6032 - loss: 0.6558 - val_accuracy: 0.6606 - val_loss: 0.7125\n",
      "Epoch 16/100\n",
      "\u001b[1m20/20\u001b[0m \u001b[32m━━━━━━━━━━━━━━━━━━━━\u001b[0m\u001b[37m\u001b[0m \u001b[1m0s\u001b[0m 4ms/step - accuracy: 0.6042 - loss: 0.6594 - val_accuracy: 0.6514 - val_loss: 0.7108\n",
      "Epoch 17/100\n",
      "\u001b[1m20/20\u001b[0m \u001b[32m━━━━━━━━━━━━━━━━━━━━\u001b[0m\u001b[37m\u001b[0m \u001b[1m0s\u001b[0m 4ms/step - accuracy: 0.5968 - loss: 0.6620 - val_accuracy: 0.6422 - val_loss: 0.7126\n",
      "\u001b[1m4/4\u001b[0m \u001b[32m━━━━━━━━━━━━━━━━━━━━\u001b[0m\u001b[37m\u001b[0m \u001b[1m0s\u001b[0m 5ms/step \n",
      "🔍 Best Threshold (F1): 0.5\n",
      "Accuracy: 0.609375\n",
      "F1 Score: 0.6875\n",
      "ROC-AUC: 0.652014652014652\n",
      "Confusion Matrix:\n",
      " [[23 40]\n",
      " [10 55]]\n"
     ]
    },
    {
     "data": {
      "image/png": "[encoded data removed]",
      "text/plain": [
       "<Figure size 640x480 with 2 Axes>"
      ]
     },
     "metadata": {},
     "output_type": "display_data"
    }
   ],
   "source": [
    "import numpy as np\n",
    "from tensorflow import keras\n",
    "from tensorflow.keras import layers\n",
    "from sklearn.metrics import accuracy_score, f1_score, roc_auc_score, confusion_matrix\n",
    "\n",
    "# 🏗️ Build model\n",
    "model = keras.Sequential([\n",
    "    layers.Input(shape=(X_train_scaled.shape[1],)),\n",
    "    layers.Dense(64, activation='relu'),\n",
    "    layers.Dropout(0.3),\n",
    "    layers.Dense(32, activation='relu'),\n",
    "    layers.Dropout(0.3),\n",
    "    layers.Dense(1, activation='sigmoid')  # binary classification\n",
    "])\n",
    "\n",
    "model.compile(optimizer='adam', loss='binary_crossentropy', metrics=['accuracy'])\n",
    "\n",
    "# ⏳ Train with early stopping\n",
    "early_stop = keras.callbacks.EarlyStopping(patience=10, restore_best_weights=True)\n",
    "\n",
    "history = model.fit(\n",
    "    X_train_scaled, y_train,\n",
    "    validation_data=(X_val_scaled, y_val),\n",
    "    epochs=100,\n",
    "    batch_size=32,\n",
    "    callbacks=[early_stop],\n",
    "    verbose=1\n",
    ")\n",
    "\n",
    "# 🧪 Predict on test set\n",
    "y_pred_prob = model.predict(X_test_scaled).flatten()\n",
    "\n",
    "# 📈 Find best threshold by F1-score\n",
    "thresholds = np.arange(0.1, 0.9, 0.01)\n",
    "f1_scores = [f1_score(y_test, y_pred_prob > t) for t in thresholds]\n",
    "best_threshold = thresholds[np.argmax(f1_scores)]\n",
    "print(\"🔍 Best Threshold (F1):\", round(best_threshold, 3))\n",
    "\n",
    "# 🎯 Final predictions\n",
    "y_pred = (y_pred_prob > best_threshold).astype(int)\n",
    "\n",
    "# 📊 Evaluate\n",
    "acc = accuracy_score(y_test, y_pred)\n",
    "f1 = f1_score(y_test, y_pred)\n",
    "roc = roc_auc_score(y_test, y_pred_prob)\n",
    "cm = confusion_matrix(y_test, y_pred)\n",
    "\n",
    "print(\"Accuracy:\", acc)\n",
    "print(\"F1 Score:\", f1)\n",
    "print(\"ROC-AUC:\", roc)\n",
    "print(\"Confusion Matrix:\\n\", cm)\n",
    "\n",
    "# 🔥 Confusion matrix heatmap\n",
    "import seaborn as sns\n",
    "import matplotlib.pyplot as plt\n",
    "\n",
    "sns.heatmap(cm, annot=True, fmt='d', cmap='Blues', xticklabels=[0,1], yticklabels=[0,1])\n",
    "plt.xlabel('Predicted')\n",
    "plt.ylabel('Actual')\n",
    "plt.title('Confusion Matrix')\n",
    "plt.show()"
   ]
  },
  {
   "cell_type": "markdown",
   "metadata": {},
   "source": [
    "## Evaluation Metrics\n",
    "\n",
    "[Clearly specify which metrics you'll use to evaluate the model performance, and why you've chosen these metrics.]\n"
   ]
  },
  {
   "cell_type": "markdown",
   "metadata": {},
   "source": [
    "We used the following metrics:\n",
    "\t•\tAccuracy: General correctness of predictions\n",
    "\t•\tF1 Score: Useful for class imbalance\n",
    "\t•\tROC-AUC: To measure how well the model separates increase vs. no-increase\n",
    "\t•\tConfusion Matrix: To visualize true/false positives and negatives"
   ]
  },
  {
   "cell_type": "code",
   "execution_count": null,
   "metadata": {},
   "outputs": [],
   "source": [
    "# Evaluate the model using your chosen metrics\n",
    "# Example for classification\n",
    "# y_pred = model.predict(X_test)\n",
    "# print(classification_report(y_test, y_pred))\n",
    "\n",
    "# Example for regression\n",
    "# mse = mean_squared_error(y_test, y_pred)\n",
    "\n",
    "# Your evaluation code here\n"
   ]
  },
  {
   "cell_type": "markdown",
   "metadata": {},
   "source": [
    "## Comparative Analysis\n",
    "\n",
    "[Compare the performance of your model(s) against the baseline model. Discuss any improvements or setbacks and the reasons behind them.]\n"
   ]
  },
  {
   "cell_type": "markdown",
   "metadata": {},
   "source": [
    "Compared to the baseline Logistic Regression model (Accuracy: ~59%, ROC-AUC: ~0.48), the neural network achieved:\n",
    "\t•\t[Insert new accuracy]\n",
    "\t•\t[Insert new F1 score]\n",
    "\t•\t[Insert new ROC-AUC]\n",
    "\n",
    "This demonstrates improved ability to capture complex patterns. Further gains may come from engineering temporal features (e.g., % change from previous year), or using recurrent models if the time dimension is retained."
   ]
  },
  {
   "cell_type": "code",
   "execution_count": null,
   "metadata": {},
   "outputs": [],
   "source": [
    "# Comparative Analysis code (if applicable)\n",
    "# Example: comparing accuracy of the baseline model and the new model\n",
    "# print(f\"Baseline Model Accuracy: {baseline_accuracy}, New Model Accuracy: {new_model_accuracy}\")\n"
   ]
  }
 ],
 "metadata": {
  "kernelspec": {
   "display_name": "Python 3",
   "language": "python",
   "name": "python3"
  },
  "language_info": {
   "codemirror_mode": {
    "name": "ipython",
    "version": 3
   },
   "file_extension": ".py",
   "mimetype": "text/x-python",
   "name": "python",
   "nbconvert_exporter": "python",
   "pygments_lexer": "ipython3",
   "version": "3.12.1"
  }
 },
 "nbformat": 4,
 "nbformat_minor": 2
}
