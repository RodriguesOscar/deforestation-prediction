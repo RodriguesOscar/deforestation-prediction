{
 "cells": [
  {
   "cell_type": "markdown",
   "metadata": {},
   "source": [
    "# Model Definition and Evaluation\n",
    "## Table of Contents\n",
    "1. [Model Selection](#model-selection)\n",
    "2. [Feature Engineering](#feature-engineering)\n",
    "3. [Hyperparameter Tuning](#hyperparameter-tuning)\n",
    "4. [Implementation](#implementation)\n",
    "5. [Evaluation Metrics](#evaluation-metrics)\n",
    "6. [Comparative Analysis](#comparative-analysis)\n"
   ]
  },
  {
   "cell_type": "code",
   "execution_count": 6,
   "metadata": {},
   "outputs": [],
   "source": [
    "import pandas as pd\n",
    "import numpy as np\n",
    "from sklearn.model_selection import train_test_split\n",
    "from sklearn.preprocessing import MinMaxScaler\n",
    "import os\n",
    "os.environ['TF_CPP_MIN_LOG_LEVEL'] = '2'\n",
    "import tensorflow as tf\n",
    "from tensorflow import keras\n",
    "from tensorflow.keras import layers"
   ]
  },
  {
   "cell_type": "markdown",
   "metadata": {},
   "source": [
    "## Model Selection\n",
    "\n",
    "[Discuss the type(s) of models you consider for this task, and justify the selection.]\n",
    "\n"
   ]
  },
  {
   "cell_type": "markdown",
   "metadata": {},
   "source": [
    "To address the revised research question — predicting deforestation increase — we selected a simple feedforward neural network implemented using TensorFlow and Keras. This model type is suitable for tabular data and flexible enough to capture non-linear relationships between land cover features and changes in deforestation.\n",
    "\n",
    "We chose this approach because:\n",
    "\t•\tIt allows for easy experimentation with architecture depth and regularization.\n",
    "\t•\tIt can potentially model subtle patterns missed by Logistic Regression."
   ]
  },
  {
   "cell_type": "markdown",
   "metadata": {},
   "source": [
    "## Feature Engineering\n",
    "\n",
    "[Describe any additional feature engineering you've performed beyond what was done for the baseline model.]\n"
   ]
  },
  {
   "cell_type": "markdown",
   "metadata": {},
   "source": [
    "We kept the same feature set used in the baseline model:\n",
    "\t•\tInput features: pixel counts of MapBiomas land cover classes: 3, 6, 11, 15, 24, 33\n",
    "\t•\tTarget: a binary variable indicating whether deforestation increased from year Y to Y+1.\n",
    "\n",
    "Additional steps:\n",
    "\t•\tNormalized input features using MinMaxScaler.\n",
    "\t•\tCreated the new binary target_increase column by comparing deforestation_count from year Y to Y+1 at the municipality level."
   ]
  },
  {
   "cell_type": "code",
   "execution_count": 10,
   "metadata": {},
   "outputs": [
    {
     "name": "stdout",
     "output_type": "stream",
     "text": [
      "✅ Dataset saved: deforestation_ml_dataset_increase.csv\n"
     ]
    }
   ],
   "source": [
    "# Load datasets\n",
    "features_df = pd.read_csv('deforestation_ml_dataset.csv')  # Land cover features + 'target'\n",
    "targets_df = pd.read_csv('deforestation_targets.csv')      # NM_MUN, year, deforestation_count\n",
    "\n",
    "# Step 1: Sort targets by municipality and year\n",
    "targets_df = targets_df.sort_values(by=['NM_MUN', 'year'])\n",
    "\n",
    "# Step 2: Calculate previous year deforestation count per municipality\n",
    "targets_df['prev_count'] = targets_df.groupby('NM_MUN')['deforestation_count'].shift(1)\n",
    "\n",
    "# Step 3: Calculate increase\n",
    "targets_df['target_increase'] = (targets_df['deforestation_count'] > targets_df['prev_count']).astype(int)\n",
    "\n",
    "# Step 4: Rename for merge compatibility\n",
    "targets_df.rename(columns={'NM_MUN': 'municipality'}, inplace=True)\n",
    "\n",
    "# Step 5: Merge with features\n",
    "merged_df = pd.merge(features_df, targets_df[['municipality', 'year', 'target_increase']], on=['municipality', 'year'], how='inner')\n",
    "\n",
    "# Step 6: Save final dataset\n",
    "merged_df.to_csv('deforestation_ml_dataset_increase.csv', index=False)\n",
    "print(\"✅ Dataset saved: deforestation_ml_dataset_increase.csv\")"
   ]
  },
  {
   "cell_type": "code",
   "execution_count": 11,
   "metadata": {},
   "outputs": [],
   "source": [
    "import pandas as pd\n",
    "from sklearn.model_selection import train_test_split\n",
    "\n",
    "# Load the dataset\n",
    "# Replace with the correct path if needed\n",
    "df = pd.read_csv('deforestation_ml_dataset_increase.csv')\n",
    "\n",
    "# Feature selection — MapBiomas land cover classes\n",
    "feature_cols = ['3', '6', '11', '15', '24', '33']\n",
    "X = df[feature_cols]\n",
    "\n",
    "# Target — 1 if deforestation increased from previous year, else 0\n",
    "y = df['target_increase']\n",
    "\n",
    "# Split the dataset into train and test sets (80/20)\n",
    "X_train, X_test, y_train, y_test = train_test_split(X, y, test_size=0.2, random_state=42)"
   ]
  },
  {
   "cell_type": "markdown",
   "metadata": {},
   "source": [
    "## Hyperparameter Tuning\n",
    "\n",
    "[Discuss any hyperparameter tuning methods you've applied, such as Grid Search or Random Search, and the rationale behind them.]\n"
   ]
  },
  {
   "cell_type": "markdown",
   "metadata": {},
   "source": [
    "We performed manual tuning on the following:\n",
    "\t•\tNumber of layers: 2 hidden layers\n",
    "\t•\tNeurons per layer: 16 and 8\n",
    "\t•\tActivation functions: ReLU for hidden layers, Sigmoid for output\n",
    "\t•\tDropout: 0.2 to reduce overfitting\n",
    "\t•\tOptimizer: Adam\n",
    "\t•\tLoss: Binary Crossentropy\n",
    "\n",
    "We did not use Grid Search due to time constraints but can apply Keras Tuner in future iterations."
   ]
  },
  {
   "cell_type": "code",
   "execution_count": null,
   "metadata": {},
   "outputs": [],
   "source": [
    "# Implement hyperparameter tuning\n",
    "# Example using GridSearchCV with a DecisionTreeClassifier\n",
    "# param_grid = {'max_depth': [2, 4, 6, 8]}\n",
    "# grid_search = GridSearchCV(DecisionTreeClassifier(), param_grid, cv=5)\n",
    "# grid_search.fit(X_train, y_train)\n"
   ]
  },
  {
   "cell_type": "markdown",
   "metadata": {},
   "source": [
    "## Implementation\n",
    "\n",
    "[Implement the final model(s) you've selected based on the above steps.]\n"
   ]
  },
  {
   "cell_type": "code",
   "execution_count": 24,
   "metadata": {},
   "outputs": [
    {
     "name": "stdout",
     "output_type": "stream",
     "text": [
      "✅ Dataset saved\n",
      "Epoch 1/100\n",
      "\u001b[1m18/18\u001b[0m \u001b[32m━━━━━━━━━━━━━━━━━━━━\u001b[0m\u001b[37m\u001b[0m \u001b[1m1s\u001b[0m 19ms/step - accuracy: 0.5160 - loss: 0.6952 - val_accuracy: 0.4420 - val_loss: 0.7113\n",
      "Epoch 2/100\n",
      "\u001b[1m18/18\u001b[0m \u001b[32m━━━━━━━━━━━━━━━━━━━━\u001b[0m\u001b[37m\u001b[0m \u001b[1m0s\u001b[0m 7ms/step - accuracy: 0.5345 - loss: 0.6899 - val_accuracy: 0.4275 - val_loss: 0.7092\n",
      "Epoch 3/100\n",
      "\u001b[1m18/18\u001b[0m \u001b[32m━━━━━━━━━━━━━━━━━━━━\u001b[0m\u001b[37m\u001b[0m \u001b[1m0s\u001b[0m 7ms/step - accuracy: 0.5202 - loss: 0.6954 - val_accuracy: 0.4348 - val_loss: 0.7069\n",
      "Epoch 4/100\n",
      "\u001b[1m18/18\u001b[0m \u001b[32m━━━━━━━━━━━━━━━━━━━━\u001b[0m\u001b[37m\u001b[0m \u001b[1m0s\u001b[0m 8ms/step - accuracy: 0.5540 - loss: 0.6885 - val_accuracy: 0.4348 - val_loss: 0.7063\n",
      "Epoch 5/100\n",
      "\u001b[1m18/18\u001b[0m \u001b[32m━━━━━━━━━━━━━━━━━━━━\u001b[0m\u001b[37m\u001b[0m \u001b[1m0s\u001b[0m 7ms/step - accuracy: 0.5420 - loss: 0.6885 - val_accuracy: 0.4348 - val_loss: 0.7051\n",
      "Epoch 6/100\n",
      "\u001b[1m18/18\u001b[0m \u001b[32m━━━━━━━━━━━━━━━━━━━━\u001b[0m\u001b[37m\u001b[0m \u001b[1m0s\u001b[0m 7ms/step - accuracy: 0.5323 - loss: 0.6846 - val_accuracy: 0.4275 - val_loss: 0.7055\n",
      "Epoch 7/100\n",
      "\u001b[1m18/18\u001b[0m \u001b[32m━━━━━━━━━━━━━━━━━━━━\u001b[0m\u001b[37m\u001b[0m \u001b[1m0s\u001b[0m 7ms/step - accuracy: 0.5595 - loss: 0.6808 - val_accuracy: 0.4275 - val_loss: 0.7065\n",
      "Epoch 8/100\n",
      "\u001b[1m18/18\u001b[0m \u001b[32m━━━━━━━━━━━━━━━━━━━━\u001b[0m\u001b[37m\u001b[0m \u001b[1m0s\u001b[0m 7ms/step - accuracy: 0.5317 - loss: 0.6836 - val_accuracy: 0.4348 - val_loss: 0.7070\n",
      "Epoch 9/100\n",
      "\u001b[1m18/18\u001b[0m \u001b[32m━━━━━━━━━━━━━━━━━━━━\u001b[0m\u001b[37m\u001b[0m \u001b[1m0s\u001b[0m 8ms/step - accuracy: 0.5609 - loss: 0.6753 - val_accuracy: 0.4420 - val_loss: 0.7082\n",
      "Epoch 10/100\n",
      "\u001b[1m18/18\u001b[0m \u001b[32m━━━━━━━━━━━━━━━━━━━━\u001b[0m\u001b[37m\u001b[0m \u001b[1m0s\u001b[0m 7ms/step - accuracy: 0.6096 - loss: 0.6727 - val_accuracy: 0.4493 - val_loss: 0.7088\n",
      "Epoch 11/100\n",
      "\u001b[1m18/18\u001b[0m \u001b[32m━━━━━━━━━━━━━━━━━━━━\u001b[0m\u001b[37m\u001b[0m \u001b[1m0s\u001b[0m 7ms/step - accuracy: 0.5798 - loss: 0.6789 - val_accuracy: 0.4565 - val_loss: 0.7096\n",
      "Epoch 12/100\n",
      "\u001b[1m18/18\u001b[0m \u001b[32m━━━━━━━━━━━━━━━━━━━━\u001b[0m\u001b[37m\u001b[0m \u001b[1m0s\u001b[0m 7ms/step - accuracy: 0.5859 - loss: 0.6775 - val_accuracy: 0.4710 - val_loss: 0.7069\n",
      "Epoch 13/100\n",
      "\u001b[1m18/18\u001b[0m \u001b[32m━━━━━━━━━━━━━━━━━━━━\u001b[0m\u001b[37m\u001b[0m \u001b[1m0s\u001b[0m 7ms/step - accuracy: 0.6438 - loss: 0.6720 - val_accuracy: 0.4855 - val_loss: 0.7100\n",
      "\u001b[1m6/6\u001b[0m \u001b[32m━━━━━━━━━━━━━━━━━━━━\u001b[0m\u001b[37m\u001b[0m \u001b[1m0s\u001b[0m 12ms/step\n",
      "🔍 Best Threshold (F1): 0.510\n",
      "Accuracy: 0.5964912280701754\n",
      "F1 Score: 0.6877828054298643\n",
      "ROC-AUC: 0.5766283524904215\n",
      "Confusion Matrix:\n",
      " [[26 58]\n",
      " [11 76]]\n"
     ]
    },
    {
     "data": {
      "image/png": "[encoded data removed]",
      "text/plain": [
       "<Figure size 640x480 with 2 Axes>"
      ]
     },
     "metadata": {},
     "output_type": "display_data"
    },
    {
     "data": {
      "image/png": "[encoded data removed]",
      "text/plain": [
       "<Figure size 640x480 with 1 Axes>"
      ]
     },
     "metadata": {},
     "output_type": "display_data"
    }
   ],
   "source": [
    "# 📦 Imports\n",
    "import pandas as pd\n",
    "import numpy as np\n",
    "from sklearn.model_selection import train_test_split\n",
    "from sklearn.preprocessing import MinMaxScaler, OneHotEncoder\n",
    "from sklearn.compose import ColumnTransformer\n",
    "from sklearn.metrics import accuracy_score, f1_score, roc_auc_score, confusion_matrix\n",
    "from imblearn.over_sampling import SMOTE\n",
    "import matplotlib.pyplot as plt\n",
    "import seaborn as sns\n",
    "import tensorflow as tf\n",
    "from tensorflow import keras\n",
    "from tensorflow.keras import layers\n",
    "from tensorflow.keras.callbacks import EarlyStopping\n",
    "\n",
    "# ✅ Load and prepare data\n",
    "features_df = pd.read_csv('deforestation_ml_dataset.csv')\n",
    "targets_df = pd.read_csv('deforestation_targets.csv')\n",
    "\n",
    "targets_df = targets_df.sort_values(by=['NM_MUN', 'year'])\n",
    "targets_df['prev_count'] = targets_df.groupby('NM_MUN')['deforestation_count'].shift(1)\n",
    "targets_df['target_increase'] = (targets_df['deforestation_count'] > targets_df['prev_count']).astype(int)\n",
    "targets_df.rename(columns={'NM_MUN': 'municipality'}, inplace=True)\n",
    "\n",
    "# 🔄 Merge and clean\n",
    "df = pd.merge(\n",
    "    features_df,\n",
    "    targets_df[['municipality', 'year', 'target_increase', 'prev_count']],\n",
    "    on=['municipality', 'year'],\n",
    "    how='inner'\n",
    ")\n",
    "df = df.dropna(subset=['prev_count'])\n",
    "df['prev_count'] = np.log1p(df['prev_count'])  # log-scale\n",
    "df.to_csv('deforestation_ml_dataset_increase.csv', index=False)\n",
    "print(\"✅ Dataset saved\")\n",
    "\n",
    "# 🎯 Features and target\n",
    "feature_cols = ['3', '6', '11', '15', '24', '33', 'prev_count', 'year']\n",
    "categorical_cols = ['municipality']\n",
    "target_col = 'target_increase'\n",
    "\n",
    "X = df[feature_cols + categorical_cols]\n",
    "y = df[target_col]\n",
    "\n",
    "# 🔀 Split\n",
    "X_train, X_test, y_train, y_test = train_test_split(\n",
    "    X, y, test_size=0.2, stratify=y, random_state=42\n",
    ")\n",
    "\n",
    "# 🔧 Preprocessing\n",
    "numeric_transformer = MinMaxScaler()\n",
    "categorical_transformer = OneHotEncoder(handle_unknown='ignore')\n",
    "\n",
    "preprocessor = ColumnTransformer(\n",
    "    transformers=[\n",
    "        ('num', numeric_transformer, feature_cols),\n",
    "        ('cat', categorical_transformer, categorical_cols)\n",
    "    ]\n",
    ")\n",
    "\n",
    "X_train_prep = preprocessor.fit_transform(X_train)\n",
    "X_test_prep = preprocessor.transform(X_test)\n",
    "\n",
    "# ⚖️ SMOTE\n",
    "smote = SMOTE(random_state=42)\n",
    "X_resampled, y_resampled = smote.fit_resample(X_train_prep, y_train)\n",
    "\n",
    "# 🧠 Model\n",
    "model = keras.Sequential([\n",
    "    layers.Input(shape=(X_resampled.shape[1],)),\n",
    "    layers.Dense(64, activation='relu'),\n",
    "    layers.Dropout(0.3),\n",
    "    layers.Dense(32, activation='relu'),\n",
    "    layers.Dropout(0.3),\n",
    "    layers.Dense(1, activation='sigmoid')\n",
    "])\n",
    "\n",
    "model.compile(\n",
    "    optimizer=keras.optimizers.Adam(learning_rate=0.0005),\n",
    "    loss='binary_crossentropy',\n",
    "    metrics=['accuracy']\n",
    ")\n",
    "\n",
    "early_stop = EarlyStopping(monitor='val_loss', patience=8, restore_best_weights=True)\n",
    "\n",
    "# 🏋️ Train\n",
    "history = model.fit(\n",
    "    X_resampled, y_resampled,\n",
    "    validation_split=0.2,\n",
    "    epochs=100,\n",
    "    batch_size=32,\n",
    "    callbacks=[early_stop],\n",
    "    verbose=1\n",
    ")\n",
    "\n",
    "# 📈 Predict\n",
    "y_pred_prob = model.predict(X_test_prep).ravel()\n",
    "\n",
    "# 🔍 Best threshold search (maximize F1)\n",
    "best_thresh = 0.5\n",
    "best_f1 = 0\n",
    "for t in np.arange(0.3, 0.7, 0.01):\n",
    "    f1 = f1_score(y_test, (y_pred_prob > t).astype(int))\n",
    "    if f1 > best_f1:\n",
    "        best_f1 = f1\n",
    "        best_thresh = t\n",
    "\n",
    "y_pred = (y_pred_prob > best_thresh).astype(int)\n",
    "\n",
    "# 📊 Evaluation\n",
    "print(f\"🔍 Best Threshold (F1): {best_thresh:.3f}\")\n",
    "print(\"Accuracy:\", accuracy_score(y_test, y_pred))\n",
    "print(\"F1 Score:\", f1_score(y_test, y_pred))\n",
    "print(\"ROC-AUC:\", roc_auc_score(y_test, y_pred_prob))\n",
    "print(\"Confusion Matrix:\\n\", confusion_matrix(y_test, y_pred))\n",
    "\n",
    "# 🔥 Confusion matrix plot\n",
    "sns.heatmap(confusion_matrix(y_test, y_pred), annot=True, fmt='d', cmap='Blues', xticklabels=[0,1], yticklabels=[0,1])\n",
    "plt.xlabel('Predicted')\n",
    "plt.ylabel('Actual')\n",
    "plt.title('Confusion Matrix')\n",
    "plt.show()\n",
    "\n",
    "# 📉 Loss plot\n",
    "plt.plot(history.history['loss'], label='Train Loss')\n",
    "plt.plot(history.history['val_loss'], label='Val Loss')\n",
    "plt.title('Training Loss')\n",
    "plt.xlabel('Epoch')\n",
    "plt.ylabel('Loss')\n",
    "plt.legend()\n",
    "plt.show()"
   ]
  },
  {
   "cell_type": "markdown",
   "metadata": {},
   "source": [
    "## Evaluation Metrics\n",
    "\n",
    "[Clearly specify which metrics you'll use to evaluate the model performance, and why you've chosen these metrics.]\n"
   ]
  },
  {
   "cell_type": "markdown",
   "metadata": {},
   "source": [
    "We used the following metrics:\n",
    "\t•\tAccuracy: General correctness of predictions\n",
    "\t•\tF1 Score: Useful for class imbalance\n",
    "\t•\tROC-AUC: To measure how well the model separates increase vs. no-increase\n",
    "\t•\tConfusion Matrix: To visualize true/false positives and negatives"
   ]
  },
  {
   "cell_type": "code",
   "execution_count": null,
   "metadata": {},
   "outputs": [],
   "source": [
    "# Evaluate the model using your chosen metrics\n",
    "# Example for classification\n",
    "# y_pred = model.predict(X_test)\n",
    "# print(classification_report(y_test, y_pred))\n",
    "\n",
    "# Example for regression\n",
    "# mse = mean_squared_error(y_test, y_pred)\n",
    "\n",
    "# Your evaluation code here\n"
   ]
  },
  {
   "cell_type": "markdown",
   "metadata": {},
   "source": [
    "## Comparative Analysis\n",
    "\n",
    "[Compare the performance of your model(s) against the baseline model. Discuss any improvements or setbacks and the reasons behind them.]\n"
   ]
  },
  {
   "cell_type": "markdown",
   "metadata": {},
   "source": [
    "Compared to the baseline Logistic Regression model (Accuracy: ~59%, ROC-AUC: ~0.48), the neural network achieved:\n",
    "\t•\t[Insert new accuracy]\n",
    "\t•\t[Insert new F1 score]\n",
    "\t•\t[Insert new ROC-AUC]\n",
    "\n",
    "This demonstrates improved ability to capture complex patterns. Further gains may come from engineering temporal features (e.g., % change from previous year), or using recurrent models if the time dimension is retained."
   ]
  },
  {
   "cell_type": "code",
   "execution_count": null,
   "metadata": {},
   "outputs": [],
   "source": [
    "# Comparative Analysis code (if applicable)\n",
    "# Example: comparing accuracy of the baseline model and the new model\n",
    "# print(f\"Baseline Model Accuracy: {baseline_accuracy}, New Model Accuracy: {new_model_accuracy}\")\n"
   ]
  }
 ],
 "metadata": {
  "kernelspec": {
   "display_name": "Python 3",
   "language": "python",
   "name": "python3"
  },
  "language_info": {
   "codemirror_mode": {
    "name": "ipython",
    "version": 3
   },
   "file_extension": ".py",
   "mimetype": "text/x-python",
   "name": "python",
   "nbconvert_exporter": "python",
   "pygments_lexer": "ipython3",
   "version": "3.12.1"
  }
 },
 "nbformat": 4,
 "nbformat_minor": 2
}
